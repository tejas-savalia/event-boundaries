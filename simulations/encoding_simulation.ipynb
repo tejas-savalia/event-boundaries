{
 "cells": [
  {
   "cell_type": "code",
   "execution_count": 1,
   "metadata": {},
   "outputs": [],
   "source": [
    "import os, itertools, multiprocessing\n",
    "# os.environ['OMP_NUM_THREADS']=\"1\"\n",
    "import numpy as np\n",
    "import pandas as pd\n",
    "import scipy.stats as stat\n",
    "import seaborn as sns\n",
    "import matplotlib.pyplot as plt\n",
    "# from hmmviz import TransGraphy\n",
    "import networkx as nx\n",
    "from sklearn.cluster import KMeans\n",
    "import ipywidgets as widgets\n",
    "from ipywidgets import interactive\n",
    "from sklearn.mixture import GaussianMixture\n",
    "import matplotlib as mpl\n",
    "import scipy\n"
   ]
  },
  {
   "cell_type": "code",
   "execution_count": 18,
   "metadata": {},
   "outputs": [],
   "source": [
    "n_objects = 15\n",
    "n_features = 15\n",
    "\n",
    "objects_matrix = np.linalg.qr(np.random.rand(n_objects, n_features))[0].T \n",
    "#Rows = individual objects\n",
    "#Columns = orthonormal features of these objects"
   ]
  },
  {
   "cell_type": "code",
   "execution_count": 2,
   "metadata": {},
   "outputs": [],
   "source": []
  },
  {
   "cell_type": "code",
   "execution_count": null,
   "metadata": {},
   "outputs": [],
   "source": []
  }
 ],
 "metadata": {
  "kernelspec": {
   "display_name": "eb",
   "language": "python",
   "name": "python3"
  },
  "language_info": {
   "codemirror_mode": {
    "name": "ipython",
    "version": 3
   },
   "file_extension": ".py",
   "mimetype": "text/x-python",
   "name": "python",
   "nbconvert_exporter": "python",
   "pygments_lexer": "ipython3",
   "version": "3.9.16"
  }
 },
 "nbformat": 4,
 "nbformat_minor": 2
}
