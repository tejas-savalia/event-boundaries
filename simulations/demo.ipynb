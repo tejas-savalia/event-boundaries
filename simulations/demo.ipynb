{
 "cells": [
  {
   "cell_type": "code",
   "execution_count": 1,
   "metadata": {},
   "outputs": [
    {
     "data": {
      "text/html": [
       "<pre style=\"white-space:pre;overflow-x:auto;line-height:normal;font-family:Menlo,'DejaVu Sans Mono',consolas,'Courier New',monospace\">Manim Community <span style=\"color: #008000; text-decoration-color: #008000\">v0.18.0</span>\n",
       "\n",
       "</pre>\n"
      ],
      "text/plain": [
       "Manim Community \u001b[32mv0.\u001b[0m\u001b[32m18.0\u001b[0m\n",
       "\n"
      ]
     },
     "metadata": {},
     "output_type": "display_data"
    }
   ],
   "source": [
    "import numpy as np\n",
    "import matplotlib.pyplot as plt\n",
    "import os\n",
    "import matplotlib.animation as animation\n",
    "from PIL import Image\n",
    "# import cv2\n",
    "from manim import *\n"
   ]
  },
  {
   "cell_type": "code",
   "execution_count": 2,
   "metadata": {},
   "outputs": [],
   "source": [
    "def random_walk(graph, path_length = 1000):\n",
    "    #Random Walk\n",
    "    start_state = np.random.choice(range(graph.shape[0]))\n",
    "    current_state = start_state\n",
    "    path = np.zeros(path_length)\n",
    "    for i in range(path_length):\n",
    "        path[i] = current_state\n",
    "        neighbour_states = np.where(graph[current_state])[0]\n",
    "        next_state = np.random.choice(neighbour_states)\n",
    "        current_state = next_state\n",
    "    return path\n",
    "def create_adjacency_matrix_for_modular_graph(num_nodes, num_modules, module_sizes, inter_module_edges, boundary_nodes):\n",
    "  \"\"\"\n",
    "  Creates an adjacency matrix for a graph with modular structure.\n",
    "\n",
    "  Args:\n",
    "    num_nodes: The total number of nodes in the graph.\n",
    "    num_modules: The number of modules in the graph.\n",
    "    module_sizes: A list of the sizes of each module.\n",
    "    inter_module_edges: A list of edges between modules.\n",
    "\n",
    "  Returns:\n",
    "    An adjacency matrix for the graph.\n",
    "  \"\"\"\n",
    "\n",
    "  # Create an empty adjacency matrix.\n",
    "  adj_matrix = np.zeros((num_nodes, num_nodes))\n",
    "\n",
    "  # Add edges within each module.\n",
    "  for module_index in range(num_modules):\n",
    "    module_start_index = sum(module_sizes[:module_index])\n",
    "    module_end_index = module_start_index + module_sizes[module_index]\n",
    "\n",
    "    for node_index in range(module_start_index, module_end_index):\n",
    "      for other_node_index in range(module_start_index, module_end_index):\n",
    "        if node_index != other_node_index:\n",
    "          adj_matrix[node_index, other_node_index] = 1\n",
    "        \n",
    "  for node_i in boundary_nodes:\n",
    "    for node_j in boundary_nodes:\n",
    "      adj_matrix[node_i][node_j] = 0\n",
    "\n",
    "  # Add edges between modules.\n",
    "  for edge in inter_module_edges:\n",
    "    node_index_1, node_index_2 = edge\n",
    "    adj_matrix[node_index_1, node_index_2] = 1\n",
    "    adj_matrix[node_index_2, node_index_1] = 1\n",
    "\n",
    "  return adj_matrix\n",
    "\n",
    "\n",
    "modular_graph = create_adjacency_matrix_for_modular_graph(15, 3, [5, 5, 5], [(0, 14), (4, 5), (9, 10)], [0, 4, 5, 9, 10, 14])"
   ]
  },
  {
   "cell_type": "code",
   "execution_count": 3,
   "metadata": {},
   "outputs": [
    {
     "data": {
      "text/plain": [
       "array([0.5, 0.6, 0.7, 0.8, 0.9, 1.5, 1.6, 1.7, 1.8, 1.9, 2.5, 2.6, 2.7,\n",
       "       2.8, 2.9])"
      ]
     },
     "execution_count": 3,
     "metadata": {},
     "output_type": "execute_result"
    }
   ],
   "source": [
    "walk = random_walk(modular_graph, 100).astype(int)\n",
    "star_density = np.concatenate((np.linspace(0.5, 0.9, 5), np.linspace(1.5, 1.9, 5), np.linspace(2.5, 2.9, 5),))\n",
    "star_density"
   ]
  },
  {
   "cell_type": "code",
   "execution_count": null,
   "metadata": {},
   "outputs": [],
   "source": []
  },
  {
   "cell_type": "code",
   "execution_count": 4,
   "metadata": {},
   "outputs": [
    {
     "data": {
      "text/html": [
       "<video src=\"media\\jupyter\\Stars@2024-02-08@13-32-27.mp4\" controls autoplay loop style=\"max-width: 60%;\"  >\n",
       "      Your browser does not support the <code>video</code> element.\n",
       "    </video>"
      ],
      "text/plain": [
       "<IPython.core.display.Video object>"
      ]
     },
     "metadata": {},
     "output_type": "display_data"
    }
   ],
   "source": [
    "%%manim -qm -v WARNING Stars\n",
    "class Stars(Scene):\n",
    "    def construct(self):        \n",
    "        for w in walk:                        \n",
    "            star = Star(7, density=star_density[w])\n",
    "            self.add(star)\n",
    "            self.wait(0.25)\n",
    "            self.remove(star)\n",
    "            self.wait(0.1)\n",
    "\n",
    "        "
   ]
  },
  {
   "cell_type": "code",
   "execution_count": 13,
   "metadata": {},
   "outputs": [
    {
     "data": {
      "text/plain": [
       "array([Triangle, Triangle, Triangle, Triangle, Triangle, Square, Square,\n",
       "       Square, Square, Square, Star, Star, Star, Star, Star], dtype=object)"
      ]
     },
     "execution_count": 13,
     "metadata": {},
     "output_type": "execute_result"
    }
   ],
   "source": [
    "triangl_obj = np.zeros(5, dtype = object)\n",
    "square_obj = np.zeros(5, dtype = object)\n",
    "star_obj = np.zeros(5, dtype = object)\n",
    "\n",
    "for i in range(5):\n",
    "    triangl_obj[i] = Triangle().scale(np.random.uniform(1, 2))\n",
    "    square_obj[i] = Square(side_length=np.random.uniform(1, 2))\n",
    "    star_obj[i] = Star(density = np.random.uniform(1, 2))\n",
    "\n",
    "manim_objects = np.concatenate([triangl_obj, square_obj, star_obj])\n",
    "manim_objects"
   ]
  },
  {
   "cell_type": "code",
   "execution_count": 15,
   "metadata": {},
   "outputs": [
    {
     "data": {
      "text/html": [
       "<video src=\"media\\jupyter\\TrianglesCirclesStars@2024-02-08@13-38-53.mp4\" controls autoplay loop style=\"max-width: 60%;\"  >\n",
       "      Your browser does not support the <code>video</code> element.\n",
       "    </video>"
      ],
      "text/plain": [
       "<IPython.core.display.Video object>"
      ]
     },
     "metadata": {},
     "output_type": "display_data"
    }
   ],
   "source": [
    "%%manim -qm -v WARNING TrianglesCirclesStars\n",
    "class TrianglesCirclesStars(Scene):\n",
    "    def construct(self):        \n",
    "        for w in walk:                        \n",
    "            m_obj = manim_objects[w]\n",
    "            self.add(m_obj)\n",
    "            self.wait(0.25)\n",
    "            self.remove(m_obj)\n",
    "            self.wait(0.1)\n",
    "\n",
    "        "
   ]
  },
  {
   "cell_type": "code",
   "execution_count": null,
   "metadata": {},
   "outputs": [],
   "source": []
  },
  {
   "cell_type": "code",
   "execution_count": null,
   "metadata": {},
   "outputs": [],
   "source": []
  },
  {
   "cell_type": "code",
   "execution_count": null,
   "metadata": {},
   "outputs": [],
   "source": []
  },
  {
   "cell_type": "code",
   "execution_count": null,
   "metadata": {},
   "outputs": [],
   "source": []
  }
 ],
 "metadata": {
  "kernelspec": {
   "display_name": "Python 3 (ipykernel)",
   "language": "python",
   "name": "python3"
  },
  "language_info": {
   "codemirror_mode": {
    "name": "ipython",
    "version": 3
   },
   "file_extension": ".py",
   "mimetype": "text/x-python",
   "name": "python",
   "nbconvert_exporter": "python",
   "pygments_lexer": "ipython3",
   "version": "3.11.7"
  }
 },
 "nbformat": 4,
 "nbformat_minor": 4
}
