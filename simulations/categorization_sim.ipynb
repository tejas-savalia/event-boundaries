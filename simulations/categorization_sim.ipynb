{
 "cells": [
  {
   "cell_type": "code",
   "execution_count": 1,
   "metadata": {},
   "outputs": [
    {
     "ename": "ModuleNotFoundError",
     "evalue": "No module named 'sklearn'",
     "output_type": "error",
     "traceback": [
      "\u001b[1;31m---------------------------------------------------------------------------\u001b[0m",
      "\u001b[1;31mModuleNotFoundError\u001b[0m                       Traceback (most recent call last)",
      "Cell \u001b[1;32mIn[1], line 8\u001b[0m\n\u001b[0;32m      6\u001b[0m \u001b[38;5;28;01mimport\u001b[39;00m \u001b[38;5;21;01mos\u001b[39;00m\u001b[38;5;241m,\u001b[39m \u001b[38;5;21;01mitertools\u001b[39;00m\n\u001b[0;32m      7\u001b[0m \u001b[38;5;28;01mimport\u001b[39;00m \u001b[38;5;21;01mscipy\u001b[39;00m\u001b[38;5;21;01m.\u001b[39;00m\u001b[38;5;21;01mstats\u001b[39;00m \u001b[38;5;28;01mas\u001b[39;00m \u001b[38;5;21;01mstat\u001b[39;00m\n\u001b[1;32m----> 8\u001b[0m \u001b[38;5;28;01mfrom\u001b[39;00m \u001b[38;5;21;01msklearn\u001b[39;00m\u001b[38;5;21;01m.\u001b[39;00m\u001b[38;5;21;01mcluster\u001b[39;00m \u001b[38;5;28;01mimport\u001b[39;00m KMeans\n\u001b[0;32m      9\u001b[0m \u001b[38;5;28;01mimport\u001b[39;00m \u001b[38;5;21;01mmultiprocessing\u001b[39;00m\n\u001b[0;32m     10\u001b[0m sns\u001b[38;5;241m.\u001b[39mset_theme(\u001b[38;5;124m'\u001b[39m\u001b[38;5;124mpaper\u001b[39m\u001b[38;5;124m'\u001b[39m)\n",
      "\u001b[1;31mModuleNotFoundError\u001b[0m: No module named 'sklearn'"
     ]
    }
   ],
   "source": [
    "import numpy as np\n",
    "import pandas as pd\n",
    "import matplotlib.pyplot as plt\n",
    "import seaborn as sns\n",
    "import networkx as nx\n",
    "import os, itertools\n",
    "import scipy.stats as stat\n",
    "from sklearn.cluster import KMeans\n",
    "import multiprocessing\n",
    "sns.set_theme('paper')\n",
    "sns.set_palette('colorblind')\n",
    "from sklearn.metrics import roc_auc_score\n",
    "from scipy.interpolate import interp1d\n",
    "import cv2\n"
   ]
  },
  {
   "cell_type": "code",
   "execution_count": null,
   "metadata": {},
   "outputs": [],
   "source": []
  },
  {
   "cell_type": "markdown",
   "metadata": {},
   "source": [
    "# Function to create modular graph\n"
   ]
  },
  {
   "cell_type": "code",
   "execution_count": null,
   "metadata": {},
   "outputs": [],
   "source": [
    "def create_adjacency_matrix_for_modular_graph(num_nodes, num_modules, module_sizes, inter_module_edges, boundary_nodes,  edges_to_remove = None):\n",
    "  \"\"\"\n",
    "  Creates an adjacency matrix for a graph with modular structure.\n",
    "\n",
    "  Args:\n",
    "    num_nodes: The total number of nodes in the graph.\n",
    "    num_modules: The number of modules in the graph.\n",
    "    module_sizes: A list of the sizes of each module.\n",
    "    inter_module_edges: A list of edges between modules.\n",
    "\n",
    "  Returns:\n",
    "    An adjacency matrix for the graph.\n",
    "  \"\"\"\n",
    "\n",
    "  # Create an empty adjacency matrix.\n",
    "  adj_matrix = np.zeros((num_nodes, num_nodes))\n",
    "\n",
    "  # Add edges within each module.\n",
    "  for module_index in range(num_modules):\n",
    "    module_start_index = sum(module_sizes[:module_index])\n",
    "    module_end_index = module_start_index + module_sizes[module_index]\n",
    "\n",
    "    for node_index in range(module_start_index, module_end_index):\n",
    "      for other_node_index in range(module_start_index, module_end_index):\n",
    "        if node_index != other_node_index:\n",
    "          adj_matrix[node_index, other_node_index] = 1\n",
    "        \n",
    "  for node_i in boundary_nodes:\n",
    "    for node_j in boundary_nodes:\n",
    "      adj_matrix[node_i][node_j] = 0\n",
    "\n",
    "  if edges_to_remove is not None:\n",
    "    for edge in edges_to_remove:\n",
    "      node_index_1, node_index_2 = edge\n",
    "      adj_matrix[node_index_1, node_index_2] = 0\n",
    "      adj_matrix[node_index_2, node_index_1] = 0\n",
    "\n",
    "  # Add edges between modules.\n",
    "  for edge in inter_module_edges:\n",
    "    node_index_1, node_index_2 = edge\n",
    "    adj_matrix[node_index_1, node_index_2] = 1\n",
    "    adj_matrix[node_index_2, node_index_1] = 1\n",
    "\n",
    "  return adj_matrix\n",
    "\n",
    "\n",
    "modular_graph = create_adjacency_matrix_for_modular_graph(12, 3, [4, 4, 4], [(0, 11), (3, 4), (7, 8)], [0, 3, 4, 7, 8, 11])"
   ]
  },
  {
   "cell_type": "code",
   "execution_count": null,
   "metadata": {},
   "outputs": [],
   "source": [
    "two_hex_graph = create_adjacency_matrix_for_modular_graph(12, 2, [6, 6], [(5, 6)], [5, 6])"
   ]
  },
  {
   "cell_type": "markdown",
   "metadata": {},
   "source": [
    "# Function to plot a graph"
   ]
  },
  {
   "cell_type": "code",
   "execution_count": null,
   "metadata": {},
   "outputs": [],
   "source": [
    "def plot_graph(graph):\n",
    "    G = nx.Graph() \n",
    "    for i in range(graph.shape[0]):\n",
    "        for j in range(graph.shape[1]):\n",
    "            if graph[i][j]:\n",
    "                G.add_edge(i, j)\n",
    "\n",
    "    nx.draw(G, with_labels = True)\n",
    "    plt.show()\n",
    "\n",
    "plot_graph(modular_graph)"
   ]
  },
  {
   "cell_type": "code",
   "execution_count": 2,
   "metadata": {},
   "outputs": [
    {
     "ename": "NameError",
     "evalue": "name 'plot_graph' is not defined",
     "output_type": "error",
     "traceback": [
      "\u001b[1;31m---------------------------------------------------------------------------\u001b[0m",
      "\u001b[1;31mNameError\u001b[0m                                 Traceback (most recent call last)",
      "Cell \u001b[1;32mIn[2], line 1\u001b[0m\n\u001b[1;32m----> 1\u001b[0m \u001b[43mplot_graph\u001b[49m(two_hex_graph)\n",
      "\u001b[1;31mNameError\u001b[0m: name 'plot_graph' is not defined"
     ]
    }
   ],
   "source": [
    "plot_graph(two_hex_graph)"
   ]
  },
  {
   "cell_type": "markdown",
   "metadata": {},
   "source": [
    "# Functions for walks"
   ]
  },
  {
   "cell_type": "code",
   "execution_count": 6,
   "metadata": {},
   "outputs": [],
   "source": [
    "def random_walk(graph, path_length = 1000):\n",
    "    #Random Walk\n",
    "    start_state = np.random.choice(range(graph.shape[0]))\n",
    "    current_state = start_state\n",
    "    path = np.zeros(path_length)\n",
    "    for i in range(path_length):\n",
    "        path[i] = current_state\n",
    "        neighbour_states = np.where(graph[current_state])[0]\n",
    "        next_state = np.random.choice(neighbour_states)\n",
    "        current_state = next_state\n",
    "    return path\n",
    "        \n",
    "\n",
    "def random_hop(graph, hop_step = 1, path_length = 1000):\n",
    "    #Random Walk\n",
    "    start_state = np.random.choice(range(graph.shape[0]))\n",
    "    current_state = start_state\n",
    "    path = np.zeros(path_length)\n",
    "\n",
    "    for i in range(path_length):\n",
    "\n",
    "        if i%hop_step == 0:\n",
    "            start_state = np.random.choice(range(graph.shape[0]))\n",
    "            current_state = start_state\n",
    "\n",
    "        neighbour_states = np.where(graph[current_state])[0]\n",
    "        next_state = np.random.choice(neighbour_states)\n",
    "        path[i] = current_state\n",
    "        current_state = next_state\n",
    "\n",
    "    return path\n"
   ]
  },
  {
   "cell_type": "code",
   "execution_count": 7,
   "metadata": {},
   "outputs": [],
   "source": [
    "def run_SR(path, graph, alpha = 0.1, gamma = 0.05, plot = True):\n",
    "    SR = np.random.uniform(0, 1, size=graph.shape)\n",
    "    num_nodes = graph.shape[0]\n",
    "    start_state = np.random.choice(np.arange(num_nodes))\n",
    "    current_state = start_state    \n",
    "\n",
    "\n",
    "    for observed_state in path:\n",
    "\n",
    "        expected_probs = SR[current_state]\n",
    "        one_hot_obs = np.zeros(num_nodes)\n",
    "        one_hot_obs[int(observed_state)] = 1\n",
    "\n",
    "        SR_delta = one_hot_obs + gamma*SR[int(observed_state), :] - expected_probs\n",
    "\n",
    "        SR[current_state, :] = SR[current_state, :] + alpha*SR_delta\n",
    "        SR[current_state, :] = SR[current_state, :]/sum(SR[current_state])\n",
    "        current_state = int(observed_state)\n",
    "\n",
    "    if plot:\n",
    "        sns.heatmap(SR)\n",
    "    return SR"
   ]
  },
  {
   "cell_type": "code",
   "execution_count": 10,
   "metadata": {},
   "outputs": [
    {
     "data": {
      "image/png": "[encoded data removed]",
      "text/plain": [
       "<Figure size 640x480 with 2 Axes>"
      ]
     },
     "metadata": {},
     "output_type": "display_data"
    }
   ],
   "source": [
    "SR = run_SR(random_hop(modular_graph, hop_step=20), modular_graph, 0.2, 0.05)\n",
    "# plt.title('hop size: 6')"
   ]
  },
  {
   "cell_type": "code",
   "execution_count": 11,
   "metadata": {},
   "outputs": [],
   "source": [
    "def compute_node_entropies(params, graph):\n",
    "    alpha = params[0]\n",
    "    gamma = params[1]\n",
    "    num_nodes = graph.shape[0]\n",
    "    node_entropy = np.zeros(num_nodes)\n",
    "\n",
    "    # num_modules = 3\n",
    "    # boundary_nodes = [x for x in range(num_nodes) if ((x%5 == 0) or (x%5 == 4))]\n",
    "    # crossmodule_connections = [(0, 14), (4, 5), (9, 10)]\n",
    "    \n",
    "    # graph = create_adjacency_matrix_for_modular_graph(num_nodes, num_modules, np.repeat(num_nodes//num_modules, num_modules), \n",
    "    #                                                   crossmodule_connections, boundary_nodes)\n",
    "    SR = run_SR(path=random_hop(graph, hop_step=params[2]), graph=graph, alpha=alpha, gamma=gamma, plot=False)\n",
    "\n",
    "            \n",
    "    # graph_entropy = -np.sum(SR*np.log(SR))\n",
    "    for node in range(graph.shape[0]):\n",
    "        node_entropy[node] = -np.sum(SR[node]*np.log(SR[node]))\n",
    "\n",
    "    return node_entropy\n"
   ]
  },
  {
   "cell_type": "markdown",
   "metadata": {},
   "source": [
    "# Functions for encoding stimuli"
   ]
  },
  {
   "cell_type": "code",
   "execution_count": 12,
   "metadata": {},
   "outputs": [],
   "source": [
    "def get_stimset(num_categories, n = 1000):\n",
    "    pts = np.zeros((num_categories, n, 2))\n",
    "    means = np.array([[0, 0.15], [0, -0.15], [0.15, 0], [-0.15, 0]])   \n",
    "    for i in range(num_categories):\n",
    "        pts[i] = np.random.multivariate_normal(means[i], cov = np.array([[.01, 0], [0, .01]]), size=1000)\n",
    "    # pts_a = np.random.multivariate_normal([0, .5], cov = np.array([[.01, 0], [0, .01]]), size=1000)\n",
    "    # pts_b = np.random.multivariate_normal([.25, 0], cov = np.array([[.01, 0], [0, .01]]), size=1000)\n",
    "    # pts_c = np.random.multivariate_normal([-.25, 0], cov = np.array([[.01, 0], [0, .01]]), size=1000)\n",
    "    overall_set = pts\n",
    "\n",
    "    return overall_set\n",
    "\n",
    "\n",
    "\n",
    "def plot_stimset(num_categories):\n",
    "    overall_set = get_stimset(num_categories)\n",
    "    for i in range(num_categories):\n",
    "        plt.plot(overall_set[i, :, 0], overall_set[i, :, 1], '.', alpha=0.5)\n",
    "    plt.axis('equal')\n",
    "    plt.grid()\n",
    "    plt.show()\n",
    "\n",
    "def get_stimpresented(overall_set, num_exemplars = 5):\n",
    "    # overall_set = get_stimset(num_categories)\n",
    "    num_categories = overall_set.shape[0]\n",
    "    \n",
    "    obj_feature_matrix = np.row_stack([overall_set[i, np.random.choice(np.arange(overall_set.shape[1]), size=num_exemplars, replace=False)] \n",
    "                                     for i in range(num_categories)])\n",
    "    return obj_feature_matrix\n",
    "\n",
    "def get_encoded(store_prob_alpha, store_prob_beta, encode_noise, stim_stream, obj_cat_feature_matrix, context_boost = False, node_entropy = None):\n",
    "    encoder = np.zeros((len(stim_stream), obj_cat_feature_matrix.shape[1]))\n",
    "    # forgetting_rate = 0.05\n",
    "    # encoding_rate = 0.9\n",
    "    if not context_boost:\n",
    "        for i, stim in enumerate(stim_stream):\n",
    "            for feature in range(obj_cat_feature_matrix.shape[1]):\n",
    "                store_prob = np.random.beta(store_prob_alpha, store_prob_beta)\n",
    "                acc_prob = np.random.beta(store_prob_alpha, store_prob_beta)\n",
    "\n",
    "                if np.random.binomial(1, store_prob):\n",
    "                    if np.random.binomial(1, acc_prob):\n",
    "                        encoder[i][feature] = obj_cat_feature_matrix[stim][feature] \n",
    "                    else:\n",
    "                        encoder[i][feature] = obj_cat_feature_matrix[stim][feature] + np.random.normal(obj_cat_feature_matrix[stim][feature], encode_noise)\n",
    "                else:\n",
    "                    encoder[i][feature] = 0\n",
    "    else:\n",
    "        for i, stim in enumerate(stim_stream):\n",
    "            for feature in range(obj_cat_feature_matrix.shape[1]):\n",
    "                store_prob = np.random.beta(store_prob_alpha*node_entropy[stim], store_prob_beta/node_entropy[stim])\n",
    "                acc_prob = np.random.beta(store_prob_alpha*node_entropy[stim], store_prob_beta/node_entropy[stim])\n",
    "\n",
    "                if np.random.binomial(1, store_prob):\n",
    "                    if np.random.binomial(1, acc_prob):\n",
    "                        encoder[i][feature] = obj_cat_feature_matrix[stim][feature] \n",
    "                    else:\n",
    "                        encoder[i][feature] = obj_cat_feature_matrix[stim][feature] + np.random.normal(obj_cat_feature_matrix[stim][feature], encode_noise)\n",
    "                else:\n",
    "                    encoder[i][feature] = 0\n",
    "        \n",
    "\n",
    "    return encoder\n",
    "            \n",
    "            "
   ]
  },
  {
   "cell_type": "code",
   "execution_count": 13,
   "metadata": {},
   "outputs": [],
   "source": [
    "# plot_stimset(2)"
   ]
  },
  {
   "cell_type": "markdown",
   "metadata": {},
   "source": [
    "# Recognition Memory Test"
   ]
  },
  {
   "cell_type": "code",
   "execution_count": 14,
   "metadata": {},
   "outputs": [],
   "source": [
    "def recognition(test_item, encoder, c = 50, match_sd = .05, weights = np.array([.5, .5]), criterion = 1300):\n",
    "\n",
    "    memory_match_trace = 0\n",
    "    \n",
    "    for e in encoder:\n",
    "        dist = c*(np.sqrt(weights[0]*(test_item[0] - e[0])**2 + weights[1]*(test_item[1] - e[1])**2))\n",
    "        memory_match_trace += np.exp(-dist) #+ np.random.normal(0, match_sd)\n",
    "    # print(memory_match_trace)\n",
    "\n",
    "    if memory_match_trace > criterion:\n",
    "        return True\n",
    "    else:\n",
    "        return False        \n",
    "    \n",
    "def get_roc(stim_stream, new_test_objects, old_test_objects, study_objects, cb = True, node_entropy = None):\n",
    "\n",
    "    encoder = np.array(get_encoded(5, 5, 1, stim_stream, study_objects, context_boost=cb, node_entropy=node_entropy))\n",
    "\n",
    "    criteria = np.linspace(-100, 100, 500)\n",
    "    fa_rates = np.zeros(500)\n",
    "    hit_rates = np.zeros(500)\n",
    "\n",
    "    for i, criterion in enumerate(criteria):\n",
    "        fa_rates[i] = np.mean([recognition(new_test_item, encoder, criterion=criterion) for new_test_item in new_test_objects])\n",
    "        hit_rates[i] = np.mean([recognition(old_test_item, encoder, criterion=criterion) for old_test_item in old_test_objects])\n",
    "\n",
    "\n",
    "    return np.array([fa_rates, hit_rates])\n",
    "\n",
    "\n",
    "def get_auc_roc(stim_stream, new_test_objects, old_test_objects, study_objects, cb = True, node_entropy = None):\n",
    "\n",
    "    encoder = np.array(get_encoded(5, 5, .1, stim_stream, study_objects, context_boost=cb, node_entropy=node_entropy))\n",
    "\n",
    "    criteria = np.linspace(-100, 100, 50)\n",
    "    auc_roc = np.zeros(500)\n",
    "    # resp_to_old = np.zeros(500)\n",
    "\n",
    "    for i, criterion in enumerate(criteria):\n",
    "        resp_to_new = [recognition(new_test_item, encoder, criterion=criterion) for new_test_item in new_test_objects]\n",
    "        resp_to_old = [recognition(old_test_item, encoder, criterion=criterion) for old_test_item in old_test_objects]\n",
    "        auc_roc[i] = roc_auc_score(np.repeat([False, True], len(new_test_objects)), np.concatenate((resp_to_new, resp_to_old)))\n",
    "\n",
    "    return auc_roc\n",
    "\n"
   ]
  },
  {
   "cell_type": "code",
   "execution_count": 15,
   "metadata": {},
   "outputs": [],
   "source": [
    "num_categories = 2\n",
    "num_total_objects = 1000\n",
    "num_features = 2\n",
    "stim_stream = random_hop(two_hex_graph, hop_step=1).astype(int)\n",
    "SR = run_SR(stim_stream, two_hex_graph, plot=False)\n",
    "all_objs = get_stimset(num_categories, num_total_objects)#.reshape((num_categories*num_total_objects, num_features))\n",
    "objects = get_stimpresented(all_objs, 6)\n",
    "# sns.heatmap(encoder)\n",
    "\n",
    "new_test_objects = np.array([all_objs[i, np.random.choice(np.arange(all_objs.shape[1]), size = objects.shape[0]//2)] for i in range(num_categories)]).reshape((objects.shape[0], num_features))\n"
   ]
  },
  {
   "cell_type": "code",
   "execution_count": 16,
   "metadata": {},
   "outputs": [
    {
     "data": {
      "text/plain": [
       "<matplotlib.collections.PathCollection at 0x1755f98eb20>"
      ]
     },
     "execution_count": 16,
     "metadata": {},
     "output_type": "execute_result"
    },
    {
     "data": {
      "image/png": "[encoded data removed]",
      "text/plain": [
       "<Figure size 640x480 with 1 Axes>"
      ]
     },
     "metadata": {},
     "output_type": "display_data"
    }
   ],
   "source": [
    "plt.scatter(objects[:6, 0], objects[:6, 1])\n",
    "plt.scatter(objects[6:, 0], objects[6:, 1])\n"
   ]
  },
  {
   "cell_type": "code",
   "execution_count": 17,
   "metadata": {},
   "outputs": [],
   "source": [
    "# params = itertools.combinations([0.1, 0.1, 'hop', 1000])\n",
    "params = itertools.product([0.01, 0.05, 0.1, 0.2, 0.5], [0.01, 0.05, 0.1, 0.2, 0.5], [1, 1000])\n",
    "node_entropy = np.array([compute_node_entropies(p, modular_graph) for p in params])"
   ]
  },
  {
   "cell_type": "code",
   "execution_count": 18,
   "metadata": {},
   "outputs": [
    {
     "data": {
      "text/plain": [
       "(0.1, 0.1, 1)"
      ]
     },
     "execution_count": 18,
     "metadata": {},
     "output_type": "execute_result"
    }
   ],
   "source": [
    "params = itertools.product([0.01, 0.05, 0.1, 0.2, 0.5], [0.01, 0.05, 0.1, 0.2, 0.5], [1, 1000])\n",
    "list(params)[24]"
   ]
  },
  {
   "cell_type": "code",
   "execution_count": 21,
   "metadata": {},
   "outputs": [
    {
     "data": {
      "text/plain": [
       "(50, 12)"
      ]
     },
     "execution_count": 21,
     "metadata": {},
     "output_type": "execute_result"
    }
   ],
   "source": [
    "node_entropy.shape"
   ]
  },
  {
   "cell_type": "code",
   "execution_count": 45,
   "metadata": {},
   "outputs": [],
   "source": [
    "boundary_objects = objects[[5, 6]]\n",
    "nonboundary_objects = objects[[0, 1, 2, 3, 4, 7, 8, 9, 10, 11]]"
   ]
  },
  {
   "cell_type": "code",
   "execution_count": 46,
   "metadata": {},
   "outputs": [
    {
     "data": {
      "text/plain": [
       "<AxesSubplot: xlabel='FA', ylabel='Hit'>"
      ]
     },
     "execution_count": 46,
     "metadata": {},
     "output_type": "execute_result"
    },
    {
     "data": {
      "image/png": "[encoded data removed]",
      "text/plain": [
       "<Figure size 640x480 with 1 Axes>"
      ]
     },
     "metadata": {},
     "output_type": "display_data"
    }
   ],
   "source": [
    "fa_hit_rates = np.array([get_roc(stim_stream, new_test_objects, nonboundary_objects, objects, cb = cb, node_entropy=node_entropy[24]) for cb in [False, True]])\n",
    "\n",
    "roc_df_nonboundary = pd.DataFrame({'FA': np.ravel(fa_hit_rates[:, 0, :]),\n",
    "                       'Hit': np.ravel(fa_hit_rates[:, 1, :]),\n",
    "                       'Entropy Boost': np.repeat(['No', 'Yes'], 500)\n",
    "                       }\n",
    "                    )\n",
    "sns.scatterplot(x = 'FA', y = 'Hit', hue = 'Entropy Boost', style = 'Entropy Boost', data = roc_df_nonboundary)"
   ]
  },
  {
   "cell_type": "code",
   "execution_count": 47,
   "metadata": {},
   "outputs": [
    {
     "data": {
      "text/plain": [
       "<AxesSubplot: xlabel='FA', ylabel='Hit'>"
      ]
     },
     "execution_count": 47,
     "metadata": {},
     "output_type": "execute_result"
    },
    {
     "data": {
      "image/png": "[encoded data removed]",
      "text/plain": [
       "<Figure size 640x480 with 1 Axes>"
      ]
     },
     "metadata": {},
     "output_type": "display_data"
    }
   ],
   "source": [
    "fa_hit_rates = np.array([get_roc(stim_stream, new_test_objects, boundary_objects, objects, cb = cb, node_entropy=node_entropy[24]) for cb in [False, True]])\n",
    "\n",
    "roc_df_boundary = pd.DataFrame({'FA': np.ravel(fa_hit_rates[:, 0, :]),\n",
    "                       'Hit': np.ravel(fa_hit_rates[:, 1, :]),\n",
    "                       'Entropy Boost': np.repeat(['No', 'Yes'], 500)\n",
    "                       }\n",
    "                    )\n",
    "sns.scatterplot(x = 'FA', y = 'Hit', hue = 'Entropy Boost', style = 'Entropy Boost', data = roc_df_boundary)"
   ]
  },
  {
   "cell_type": "code",
   "execution_count": 51,
   "metadata": {},
   "outputs": [],
   "source": [
    "auc_scores = np.array([[get_auc_roc(stim_stream, new_test_objects, objects, objects, cb = cb, node_entropy=n) for cb in [False, True]]\n",
    "                      for n in node_entropy\n",
    "                       ])"
   ]
  },
  {
   "cell_type": "code",
   "execution_count": null,
   "metadata": {},
   "outputs": [],
   "source": []
  },
  {
   "cell_type": "code",
   "execution_count": 40,
   "metadata": {},
   "outputs": [],
   "source": [
    "# sns.heatmap(objects)"
   ]
  },
  {
   "cell_type": "code",
   "execution_count": null,
   "metadata": {},
   "outputs": [],
   "source": []
  },
  {
   "cell_type": "code",
   "execution_count": null,
   "metadata": {},
   "outputs": [],
   "source": []
  },
  {
   "cell_type": "code",
   "execution_count": 393,
   "metadata": {},
   "outputs": [],
   "source": [
    "keys = np.array(['h', 'j', 'k', 'l', 'space'])\n",
    "\n",
    "key_map = [np.random.choice(keys, np.random.choice([1, 2]), replace = False) for _ in range(15)]"
   ]
  },
  {
   "cell_type": "code",
   "execution_count": 419,
   "metadata": {},
   "outputs": [],
   "source": [
    "resp_order = [i for i in itertools.combinations(keys, 1)] + [i for i in itertools.combinations(keys, 2)]\n",
    "np.random.shuffle(resp_order)\n",
    "stim_resp_dict = {i:resp_order[i] for i in range(15)}\n"
   ]
  },
  {
   "cell_type": "code",
   "execution_count": 423,
   "metadata": {},
   "outputs": [
    {
     "data": {
      "text/plain": [
       "array([ 1,  0,  3,  1, 14, 12,  9,  8,  8,  9,  8,  5,  8,  9,  5,  7, 12,\n",
       "       14,  3,  0,  4,  3,  6,  8,  0, 14,  8,  7, 12, 14,  6,  7,  2,  0,\n",
       "        4,  5, 11, 12,  9,  7,  4,  5, 14, 11, 12, 10, 14, 11,  7,  5, 12,\n",
       "       13, 13, 11,  9, 10,  5,  8,  0,  2,  3,  2,  7,  8,  8,  7,  3,  4,\n",
       "        6,  8,  7,  6,  2,  3,  2,  3, 13, 10, 13, 11,  8,  6,  6,  9,  5,\n",
       "        7,  3,  2,  7,  5,  2,  4,  6,  7, 13, 14,  2,  0, 13, 11,  5,  8,\n",
       "        6,  9,  5,  4,  7,  8,  8,  5, 11, 12, 10,  9,  0,  3,  2,  1,  9,\n",
       "        7,  5,  7,  6,  9,  2,  0,  7,  5, 12, 14, 10, 12, 13, 10,  0,  3,\n",
       "        2,  3,  6,  9,  4,  5,  7,  6, 14,  0,  9,  7,  4,  5, 13, 10,  2,\n",
       "        1,  1,  2, 10, 13, 10, 13,  1,  2,  7,  6,  5,  6,  4,  1,  3,  0,\n",
       "       14,  0,  6,  8,  6,  5,  1,  3,  4,  1,  9,  7, 11, 10,  4,  2,  3,\n",
       "        1, 11, 13,  8,  6,  2,  1, 12, 10,  5,  4, 12, 14,  6,  7,  3,  0,\n",
       "        0,  1,  6,  8, 10,  9,  7,  5, 11, 12,  3,  0,  4,  3, 14, 11, 10,\n",
       "       11,  2,  0, 12, 11,  9,  7,  2,  3,  3,  2, 10, 12,  4,  3,  7,  9,\n",
       "        4,  1, 13, 12, 13, 11,  6,  8,  8,  6,  7,  8,  9,  7,  5,  8,  1,\n",
       "        4,  0,  2, 12, 10, 14, 12,  3,  2,  5,  8,  5,  8,  9,  6, 13, 10,\n",
       "        9, 10, 11, 14,  6,  5,  7,  6,  9, 10,  7,  9,  5,  7, 13, 14,  7,\n",
       "        6, 10, 13,  8,  9, 11, 12, 14, 11, 12, 10,  0,  3,  3,  1, 14, 12,\n",
       "        7,  9,  4,  1,  4,  2, 11, 10,  4,  3, 10, 11,  6,  7,  9,  7,  4,\n",
       "        2,  3,  2,  0,  1, 12, 14,  1,  0,  0,  2,  7,  6,  5,  7,  2,  0,\n",
       "       11, 10,  2,  0,  8,  9, 14, 12, 11, 12,  1,  0,  3,  0, 13, 10,  5,\n",
       "        6,  2,  4, 12, 14,  2,  0, 14, 13,  0,  3,  5,  4,  4,  3, 12, 14,\n",
       "        2,  3,  8,  5, 11, 14,  0,  3,  3,  1,  5,  6, 11, 12, 13, 10,  4,\n",
       "        5,  0,  3, 10, 13, 12, 11,  4,  5,  0,  2,  3,  4, 10,  9, 14, 12,\n",
       "        9,  7, 11, 12,  1,  3, 12, 13,  3,  1, 13, 12,  8,  6,  8,  5,  3,\n",
       "        4, 11, 12,  5,  7, 12, 10,  5,  4, 14, 13,  7,  5,  4,  2,  0,  1,\n",
       "       13, 11,  1,  2,  0,  2,  2,  1, 14, 11,  7,  9,  0, 14,  7,  6, 12,\n",
       "       10,  9, 10, 14, 11,  2,  4, 12, 14, 14, 11,  9, 10,  8,  5, 12, 13,\n",
       "        2,  0,  7,  8,  9,  8, 14, 13,  4,  2,  1,  0, 10, 13, 10, 11, 12,\n",
       "       10,  5,  8, 12, 13,  3,  0,  4,  5,  2,  4,  0,  3,  3,  1,  8,  9,\n",
       "        4,  3, 10, 12, 11, 14,  1,  4, 13, 10, 10, 12, 10, 13,  6,  8, 12,\n",
       "       14,  8,  7,  6,  7,  0,  3,  6,  7,  8,  6,  8,  7,  7,  9,  9,  6,\n",
       "        6,  7,  7,  5,  7,  8,  5,  6,  5,  7,  1,  4,  4,  1,  9,  6,  6,\n",
       "        8,  5,  8,  4,  3,  8,  9, 10,  9,  2,  4, 12, 11,  7,  8,  1,  2,\n",
       "       10, 11, 12, 10, 11, 13, 11, 10,  6,  8,  6,  5,  1,  4,  9,  7,  7,\n",
       "        8, 11, 12,  6,  5, 10,  9,  7,  6,  3,  2,  8,  6, 10,  9,  0,  1,\n",
       "        9,  8,  7,  8,  4,  5,  0,  2,  0,  3,  8,  9,  5,  7,  9, 10,  5,\n",
       "        6,  6,  7,  7,  5,  8,  5,  0,  3,  3,  4, 10,  9,  6,  7,  8,  9,\n",
       "        6,  9,  6,  7,  0,  3, 14, 11,  3,  0,  1,  2, 14,  0,  3,  4,  9,\n",
       "       10,  3,  0, 10,  9,  6,  8,  4,  5,  8,  9,  1,  0, 13, 12,  4,  3,\n",
       "        3,  4,  2,  0,  7,  8,  0,  2,  8,  9,  7,  5,  1,  0, 10, 13,  4,\n",
       "        2, 10, 13,  7,  5,  5,  6,  5,  7, 12, 13, 11, 12, 10, 13,  7,  5,\n",
       "        6,  9, 14, 12, 10,  9,  5,  4,  9, 10, 14, 12,  9,  6, 10,  9, 10,\n",
       "       11, 14, 11, 10, 11,  2,  0,  8,  9, 13, 11,  7,  6, 13, 14,  3,  0,\n",
       "        7,  6,  4,  5, 11, 10,  3,  0,  6,  5,  5,  8,  2,  4,  0,  1,  4,\n",
       "        5,  9,  8,  5,  6, 14, 12,  7,  5, 13, 10, 14,  0, 13, 12,  6,  5,\n",
       "        0, 14,  6,  9,  7,  8, 13, 14,  2,  0,  4,  5,  5,  6,  6,  7,  8,\n",
       "        7,  5,  8,  1,  2, 11, 14,  2,  4,  1,  4,  0,  3,  2,  0,  2,  0,\n",
       "        8,  7, 12, 11, 10, 13,  7,  6,  8,  5, 13, 12, 10, 11, 12, 13,  2,\n",
       "        1,  8,  7,  0,  2,  3,  2,  6,  7,  0,  3,  9,  6,  7,  9, 11, 14,\n",
       "       14, 12,  9, 10, 14, 11,  5,  4, 14, 12, 10, 12, 10, 12, 13, 14,  5,\n",
       "        4,  8,  7,  9,  7, 14, 12, 11, 10,  9,  8, 11, 14,  8,  6,  4,  1,\n",
       "        7,  5,  8,  5,  5,  4, 10, 12, 11, 13, 11, 14,  3,  1,  4,  5,  1,\n",
       "        0, 11, 12,  4,  1,  3,  1,  5,  6,  3,  0, 11, 12,  6,  8, 10, 12,\n",
       "       12, 14,  5,  7,  5,  7,  8,  7,  6,  8, 14,  0,  4,  3,  9,  8,  1,\n",
       "        0, 14, 11,  3,  4,  7,  5, 12, 14,  5,  6,  1,  0, 12, 11, 13, 14,\n",
       "        9,  6,  3,  1,  6,  9,  8,  5,  1,  0,  8,  5,  2,  3,  8,  9, 12,\n",
       "       11,  8,  6,  1,  3, 13, 10,  8,  6, 10, 11, 11, 12,  7,  6, 13, 10,\n",
       "       14, 11,  0,  1,  1,  0,  1,  0,  9,  7,  0,  1, 12, 11])"
      ]
     },
     "execution_count": 423,
     "metadata": {},
     "output_type": "execute_result"
    }
   ],
   "source": [
    "num_trials = 1000\n",
    "adj_list = create_adjacency_matrix_for_modular_graph(15, 3, [5, 5, 5], [(0, 14), (4, 5), (9, 10)], [0, 4, 5, 9, 10, 14])\n",
    "hop_length = 2\n",
    "path = random_hop(adj_list, hop_step = hop_length, path_length = num_trials).astype(int)\n"
   ]
  }
 ],
 "metadata": {
  "kernelspec": {
   "display_name": "Python 3 (ipykernel)",
   "language": "python",
   "name": "python3"
  },
  "language_info": {
   "codemirror_mode": {
    "name": "ipython",
    "version": 3
   },
   "file_extension": ".py",
   "mimetype": "text/x-python",
   "name": "python",
   "nbconvert_exporter": "python",
   "pygments_lexer": "ipython3",
   "version": "3.11.7"
  }
 },
 "nbformat": 4,
 "nbformat_minor": 4
}
