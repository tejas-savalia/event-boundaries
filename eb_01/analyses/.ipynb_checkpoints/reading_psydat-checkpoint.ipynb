{
 "cells": [
  {
   "cell_type": "code",
   "execution_count": 1,
   "id": "b55efb3b",
   "metadata": {},
   "outputs": [],
   "source": [
    "import re\n",
    "import codecs\n",
    "import glob\n"
   ]
  },
  {
   "cell_type": "code",
   "execution_count": 9,
   "id": "b15522fd",
   "metadata": {},
   "outputs": [
    {
     "name": "stdout",
     "output_type": "stream",
     "text": [
      "analysing data\\logs\\894716_eb_01_2023-03-06_21h48.48.001.log\n",
      "OK\n"
     ]
    }
   ],
   "source": [
    "files = glob.glob(\"data\\\\logs\\\\*.log\")  # the folder with the logs (relative to this file)\n",
    "# we'll use a regex for this even though they're ugly and painful:\n",
    "scanQuote = re.compile(r\"'(.*?)'\")  # finds any number of words within a quote\n",
    "\n",
    "for filename in files:\n",
    "    # open log file\n",
    "    print(\"analysing\", filename)\n",
    "    thisFile = codecs.open(filename, 'r', 'utf-8')\n",
    "    #open a data file to send csv data\n",
    "    outFilename = filename[:-3]+\".csv\"\n",
    "    outFile = codecs.open(outFilename, 'w', 'utf-8')\n",
    "    outFile.write(\"stim_00,stim_01,stim_10,stim_11\\n\")\n",
    "    #go through each line in the file\n",
    "    for line in thisFile.readlines():\n",
    "        if \"New trial (\" in line:  # new trial reset all entries\n",
    "            stim_00 = stim_01 = stim_10 = stim_11 = ''\n",
    "        elif \"stim_00: image = \" in line:  # setting an image so get it's name (in quote)\n",
    "            stim_00 = scanQuote.search(line).groups()[0]\n",
    "        elif \"stim_01: image = \" in line:  # setting an image so get it's name (in quote)\n",
    "            stim_01 = scanQuote.search(line).groups()[0]\n",
    "        elif \"stim_10: image = \" in line:  # setting an image so get it's name (in quote)\n",
    "            stim_10 = scanQuote.search(line).groups()[0]\n",
    "        elif \"stim_11: image = \" in line:  # setting an image so get it's name (in quote)\n",
    "            stim_11 = scanQuote.search(line).groups()[0]\n",
    "            # RT is the last record in each trial so can write line now\n",
    "            outFile.write(\"{},{},{}, {}\\n\".format(stim_00, stim_01, stim_10, stim_11))\n",
    "    outFile.close()\n",
    "    print (\"OK\")"
   ]
  },
  {
   "cell_type": "code",
   "execution_count": null,
   "id": "6c4a2a96",
   "metadata": {},
   "outputs": [],
   "source": []
  },
  {
   "cell_type": "code",
   "execution_count": null,
   "id": "d367ea81",
   "metadata": {},
   "outputs": [],
   "source": []
  },
  {
   "cell_type": "code",
   "execution_count": null,
   "id": "678d19d8",
   "metadata": {},
   "outputs": [],
   "source": []
  }
 ],
 "metadata": {
  "kernelspec": {
   "display_name": "Python 3 (ipykernel)",
   "language": "python",
   "name": "python3"
  },
  "language_info": {
   "codemirror_mode": {
    "name": "ipython",
    "version": 3
   },
   "file_extension": ".py",
   "mimetype": "text/x-python",
   "name": "python",
   "nbconvert_exporter": "python",
   "pygments_lexer": "ipython3",
   "version": "3.8.16"
  }
 },
 "nbformat": 4,
 "nbformat_minor": 5
}
